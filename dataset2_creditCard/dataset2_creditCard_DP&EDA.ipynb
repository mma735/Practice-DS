{
 "cells": [
  {
   "cell_type": "markdown",
   "id": "a15cdaa9",
   "metadata": {},
   "source": [
    "<center><h1>Data Preparation and Exploratory Data Analysis (EDA)</h1></center> "
   ]
  },
  {
   "cell_type": "markdown",
   "id": "d7573895",
   "metadata": {},
   "source": [
    "First, it is described the general aspects of the dataset. Then, the missing data is imputed. It is commented distribution plots before and after imputation. Finally, the scaling of the data and the visualization of the correlations between variables were carried out."
   ]
  },
  {
   "cell_type": "code",
   "execution_count": 1,
   "id": "6a6a7d0f",
   "metadata": {},
   "outputs": [],
   "source": [
    "import os\n",
    "import pandas as pd\n",
    "import numpy as np\n",
    "import matplotlib.pyplot as plt\n",
    "import seaborn as sns"
   ]
  },
  {
   "cell_type": "code",
   "execution_count": 2,
   "id": "95186467",
   "metadata": {},
   "outputs": [
    {
     "data": {
      "text/plain": [
       "'C:\\\\Users\\\\marco\\\\OneDrive\\\\Escritorio\\\\ESTUDIOS\\\\master ciencia de datos\\\\Practicas IFCA'"
      ]
     },
     "execution_count": 2,
     "metadata": {},
     "output_type": "execute_result"
    }
   ],
   "source": [
    "os.getcwd()"
   ]
  },
  {
   "cell_type": "markdown",
   "id": "8655ab9d",
   "metadata": {},
   "source": [
    "Loading the dataset"
   ]
  },
  {
   "cell_type": "code",
   "execution_count": 3,
   "id": "e1e7b71e",
   "metadata": {},
   "outputs": [],
   "source": [
    "dfCreditCard = pd.read_excel('.\\datasets\\creditCard.xlsx')"
   ]
  },
  {
   "cell_type": "markdown",
   "id": "e1ce87cc",
   "metadata": {},
   "source": [
    "Printing the first 10 values of the Dataframe."
   ]
  },
  {
   "cell_type": "code",
   "execution_count": 4,
   "id": "e54a47bc",
   "metadata": {
    "scrolled": false
   },
   "outputs": [
    {
     "data": {
      "text/html": [
       "<div>\n",
       "<style scoped>\n",
       "    .dataframe tbody tr th:only-of-type {\n",
       "        vertical-align: middle;\n",
       "    }\n",
       "\n",
       "    .dataframe tbody tr th {\n",
       "        vertical-align: top;\n",
       "    }\n",
       "\n",
       "    .dataframe thead th {\n",
       "        text-align: right;\n",
       "    }\n",
       "</style>\n",
       "<table border=\"1\" class=\"dataframe\">\n",
       "  <thead>\n",
       "    <tr style=\"text-align: right;\">\n",
       "      <th></th>\n",
       "      <th>Unnamed: 0</th>\n",
       "      <th>X1</th>\n",
       "      <th>X2</th>\n",
       "      <th>X3</th>\n",
       "      <th>X4</th>\n",
       "      <th>X5</th>\n",
       "      <th>X6</th>\n",
       "      <th>X7</th>\n",
       "      <th>X8</th>\n",
       "      <th>X9</th>\n",
       "      <th>...</th>\n",
       "      <th>X15</th>\n",
       "      <th>X16</th>\n",
       "      <th>X17</th>\n",
       "      <th>X18</th>\n",
       "      <th>X19</th>\n",
       "      <th>X20</th>\n",
       "      <th>X21</th>\n",
       "      <th>X22</th>\n",
       "      <th>X23</th>\n",
       "      <th>Y</th>\n",
       "    </tr>\n",
       "  </thead>\n",
       "  <tbody>\n",
       "    <tr>\n",
       "      <th>0</th>\n",
       "      <td>ID</td>\n",
       "      <td>LIMIT_BAL</td>\n",
       "      <td>SEX</td>\n",
       "      <td>EDUCATION</td>\n",
       "      <td>MARRIAGE</td>\n",
       "      <td>AGE</td>\n",
       "      <td>PAY_0</td>\n",
       "      <td>PAY_2</td>\n",
       "      <td>PAY_3</td>\n",
       "      <td>PAY_4</td>\n",
       "      <td>...</td>\n",
       "      <td>BILL_AMT4</td>\n",
       "      <td>BILL_AMT5</td>\n",
       "      <td>BILL_AMT6</td>\n",
       "      <td>PAY_AMT1</td>\n",
       "      <td>PAY_AMT2</td>\n",
       "      <td>PAY_AMT3</td>\n",
       "      <td>PAY_AMT4</td>\n",
       "      <td>PAY_AMT5</td>\n",
       "      <td>PAY_AMT6</td>\n",
       "      <td>default payment next month</td>\n",
       "    </tr>\n",
       "    <tr>\n",
       "      <th>1</th>\n",
       "      <td>1</td>\n",
       "      <td>20000</td>\n",
       "      <td>2</td>\n",
       "      <td>2</td>\n",
       "      <td>1</td>\n",
       "      <td>24</td>\n",
       "      <td>2</td>\n",
       "      <td>2</td>\n",
       "      <td>-1</td>\n",
       "      <td>-1</td>\n",
       "      <td>...</td>\n",
       "      <td>0</td>\n",
       "      <td>0</td>\n",
       "      <td>0</td>\n",
       "      <td>0</td>\n",
       "      <td>689</td>\n",
       "      <td>0</td>\n",
       "      <td>0</td>\n",
       "      <td>0</td>\n",
       "      <td>0</td>\n",
       "      <td>1</td>\n",
       "    </tr>\n",
       "    <tr>\n",
       "      <th>2</th>\n",
       "      <td>2</td>\n",
       "      <td>120000</td>\n",
       "      <td>2</td>\n",
       "      <td>2</td>\n",
       "      <td>2</td>\n",
       "      <td>26</td>\n",
       "      <td>-1</td>\n",
       "      <td>2</td>\n",
       "      <td>0</td>\n",
       "      <td>0</td>\n",
       "      <td>...</td>\n",
       "      <td>3272</td>\n",
       "      <td>3455</td>\n",
       "      <td>3261</td>\n",
       "      <td>0</td>\n",
       "      <td>1000</td>\n",
       "      <td>1000</td>\n",
       "      <td>1000</td>\n",
       "      <td>0</td>\n",
       "      <td>2000</td>\n",
       "      <td>1</td>\n",
       "    </tr>\n",
       "    <tr>\n",
       "      <th>3</th>\n",
       "      <td>3</td>\n",
       "      <td>90000</td>\n",
       "      <td>2</td>\n",
       "      <td>2</td>\n",
       "      <td>2</td>\n",
       "      <td>34</td>\n",
       "      <td>0</td>\n",
       "      <td>0</td>\n",
       "      <td>0</td>\n",
       "      <td>0</td>\n",
       "      <td>...</td>\n",
       "      <td>14331</td>\n",
       "      <td>14948</td>\n",
       "      <td>15549</td>\n",
       "      <td>1518</td>\n",
       "      <td>1500</td>\n",
       "      <td>1000</td>\n",
       "      <td>1000</td>\n",
       "      <td>1000</td>\n",
       "      <td>5000</td>\n",
       "      <td>0</td>\n",
       "    </tr>\n",
       "    <tr>\n",
       "      <th>4</th>\n",
       "      <td>4</td>\n",
       "      <td>50000</td>\n",
       "      <td>2</td>\n",
       "      <td>2</td>\n",
       "      <td>1</td>\n",
       "      <td>37</td>\n",
       "      <td>0</td>\n",
       "      <td>0</td>\n",
       "      <td>0</td>\n",
       "      <td>0</td>\n",
       "      <td>...</td>\n",
       "      <td>28314</td>\n",
       "      <td>28959</td>\n",
       "      <td>29547</td>\n",
       "      <td>2000</td>\n",
       "      <td>2019</td>\n",
       "      <td>1200</td>\n",
       "      <td>1100</td>\n",
       "      <td>1069</td>\n",
       "      <td>1000</td>\n",
       "      <td>0</td>\n",
       "    </tr>\n",
       "    <tr>\n",
       "      <th>5</th>\n",
       "      <td>5</td>\n",
       "      <td>50000</td>\n",
       "      <td>1</td>\n",
       "      <td>2</td>\n",
       "      <td>1</td>\n",
       "      <td>57</td>\n",
       "      <td>-1</td>\n",
       "      <td>0</td>\n",
       "      <td>-1</td>\n",
       "      <td>0</td>\n",
       "      <td>...</td>\n",
       "      <td>20940</td>\n",
       "      <td>19146</td>\n",
       "      <td>19131</td>\n",
       "      <td>2000</td>\n",
       "      <td>36681</td>\n",
       "      <td>10000</td>\n",
       "      <td>9000</td>\n",
       "      <td>689</td>\n",
       "      <td>679</td>\n",
       "      <td>0</td>\n",
       "    </tr>\n",
       "    <tr>\n",
       "      <th>6</th>\n",
       "      <td>6</td>\n",
       "      <td>50000</td>\n",
       "      <td>1</td>\n",
       "      <td>1</td>\n",
       "      <td>2</td>\n",
       "      <td>37</td>\n",
       "      <td>0</td>\n",
       "      <td>0</td>\n",
       "      <td>0</td>\n",
       "      <td>0</td>\n",
       "      <td>...</td>\n",
       "      <td>19394</td>\n",
       "      <td>19619</td>\n",
       "      <td>20024</td>\n",
       "      <td>2500</td>\n",
       "      <td>1815</td>\n",
       "      <td>657</td>\n",
       "      <td>1000</td>\n",
       "      <td>1000</td>\n",
       "      <td>800</td>\n",
       "      <td>0</td>\n",
       "    </tr>\n",
       "    <tr>\n",
       "      <th>7</th>\n",
       "      <td>7</td>\n",
       "      <td>500000</td>\n",
       "      <td>1</td>\n",
       "      <td>1</td>\n",
       "      <td>2</td>\n",
       "      <td>29</td>\n",
       "      <td>0</td>\n",
       "      <td>0</td>\n",
       "      <td>0</td>\n",
       "      <td>0</td>\n",
       "      <td>...</td>\n",
       "      <td>542653</td>\n",
       "      <td>483003</td>\n",
       "      <td>473944</td>\n",
       "      <td>55000</td>\n",
       "      <td>40000</td>\n",
       "      <td>38000</td>\n",
       "      <td>20239</td>\n",
       "      <td>13750</td>\n",
       "      <td>13770</td>\n",
       "      <td>0</td>\n",
       "    </tr>\n",
       "    <tr>\n",
       "      <th>8</th>\n",
       "      <td>8</td>\n",
       "      <td>100000</td>\n",
       "      <td>2</td>\n",
       "      <td>2</td>\n",
       "      <td>2</td>\n",
       "      <td>23</td>\n",
       "      <td>0</td>\n",
       "      <td>-1</td>\n",
       "      <td>-1</td>\n",
       "      <td>0</td>\n",
       "      <td>...</td>\n",
       "      <td>221</td>\n",
       "      <td>-159</td>\n",
       "      <td>567</td>\n",
       "      <td>380</td>\n",
       "      <td>601</td>\n",
       "      <td>0</td>\n",
       "      <td>581</td>\n",
       "      <td>1687</td>\n",
       "      <td>1542</td>\n",
       "      <td>0</td>\n",
       "    </tr>\n",
       "    <tr>\n",
       "      <th>9</th>\n",
       "      <td>9</td>\n",
       "      <td>140000</td>\n",
       "      <td>2</td>\n",
       "      <td>3</td>\n",
       "      <td>1</td>\n",
       "      <td>28</td>\n",
       "      <td>0</td>\n",
       "      <td>0</td>\n",
       "      <td>2</td>\n",
       "      <td>0</td>\n",
       "      <td>...</td>\n",
       "      <td>12211</td>\n",
       "      <td>11793</td>\n",
       "      <td>3719</td>\n",
       "      <td>3329</td>\n",
       "      <td>0</td>\n",
       "      <td>432</td>\n",
       "      <td>1000</td>\n",
       "      <td>1000</td>\n",
       "      <td>1000</td>\n",
       "      <td>0</td>\n",
       "    </tr>\n",
       "  </tbody>\n",
       "</table>\n",
       "<p>10 rows × 25 columns</p>\n",
       "</div>"
      ],
      "text/plain": [
       "  Unnamed: 0         X1   X2         X3        X4   X5     X6     X7     X8  \\\n",
       "0         ID  LIMIT_BAL  SEX  EDUCATION  MARRIAGE  AGE  PAY_0  PAY_2  PAY_3   \n",
       "1          1      20000    2          2         1   24      2      2     -1   \n",
       "2          2     120000    2          2         2   26     -1      2      0   \n",
       "3          3      90000    2          2         2   34      0      0      0   \n",
       "4          4      50000    2          2         1   37      0      0      0   \n",
       "5          5      50000    1          2         1   57     -1      0     -1   \n",
       "6          6      50000    1          1         2   37      0      0      0   \n",
       "7          7     500000    1          1         2   29      0      0      0   \n",
       "8          8     100000    2          2         2   23      0     -1     -1   \n",
       "9          9     140000    2          3         1   28      0      0      2   \n",
       "\n",
       "      X9  ...        X15        X16        X17       X18       X19       X20  \\\n",
       "0  PAY_4  ...  BILL_AMT4  BILL_AMT5  BILL_AMT6  PAY_AMT1  PAY_AMT2  PAY_AMT3   \n",
       "1     -1  ...          0          0          0         0       689         0   \n",
       "2      0  ...       3272       3455       3261         0      1000      1000   \n",
       "3      0  ...      14331      14948      15549      1518      1500      1000   \n",
       "4      0  ...      28314      28959      29547      2000      2019      1200   \n",
       "5      0  ...      20940      19146      19131      2000     36681     10000   \n",
       "6      0  ...      19394      19619      20024      2500      1815       657   \n",
       "7      0  ...     542653     483003     473944     55000     40000     38000   \n",
       "8      0  ...        221       -159        567       380       601         0   \n",
       "9      0  ...      12211      11793       3719      3329         0       432   \n",
       "\n",
       "        X21       X22       X23                           Y  \n",
       "0  PAY_AMT4  PAY_AMT5  PAY_AMT6  default payment next month  \n",
       "1         0         0         0                           1  \n",
       "2      1000         0      2000                           1  \n",
       "3      1000      1000      5000                           0  \n",
       "4      1100      1069      1000                           0  \n",
       "5      9000       689       679                           0  \n",
       "6      1000      1000       800                           0  \n",
       "7     20239     13750     13770                           0  \n",
       "8       581      1687      1542                           0  \n",
       "9      1000      1000      1000                           0  \n",
       "\n",
       "[10 rows x 25 columns]"
      ]
     },
     "execution_count": 4,
     "metadata": {},
     "output_type": "execute_result"
    }
   ],
   "source": [
    "dfCreditCard.head(10)"
   ]
  },
  {
   "cell_type": "markdown",
   "id": "10893fc7",
   "metadata": {},
   "source": [
    "Formatting dataframe"
   ]
  },
  {
   "cell_type": "code",
   "execution_count": 5,
   "id": "81f9428f",
   "metadata": {},
   "outputs": [
    {
     "data": {
      "text/html": [
       "<div>\n",
       "<style scoped>\n",
       "    .dataframe tbody tr th:only-of-type {\n",
       "        vertical-align: middle;\n",
       "    }\n",
       "\n",
       "    .dataframe tbody tr th {\n",
       "        vertical-align: top;\n",
       "    }\n",
       "\n",
       "    .dataframe thead th {\n",
       "        text-align: right;\n",
       "    }\n",
       "</style>\n",
       "<table border=\"1\" class=\"dataframe\">\n",
       "  <thead>\n",
       "    <tr style=\"text-align: right;\">\n",
       "      <th></th>\n",
       "      <th>X1</th>\n",
       "      <th>X2</th>\n",
       "      <th>X3</th>\n",
       "      <th>X4</th>\n",
       "      <th>X5</th>\n",
       "      <th>X6</th>\n",
       "      <th>X7</th>\n",
       "      <th>X8</th>\n",
       "      <th>X9</th>\n",
       "      <th>X10</th>\n",
       "      <th>...</th>\n",
       "      <th>X15</th>\n",
       "      <th>X16</th>\n",
       "      <th>X17</th>\n",
       "      <th>X18</th>\n",
       "      <th>X19</th>\n",
       "      <th>X20</th>\n",
       "      <th>X21</th>\n",
       "      <th>X22</th>\n",
       "      <th>X23</th>\n",
       "      <th>Y</th>\n",
       "    </tr>\n",
       "  </thead>\n",
       "  <tbody>\n",
       "    <tr>\n",
       "      <th>1</th>\n",
       "      <td>20000</td>\n",
       "      <td>2</td>\n",
       "      <td>2</td>\n",
       "      <td>1</td>\n",
       "      <td>24</td>\n",
       "      <td>2</td>\n",
       "      <td>2</td>\n",
       "      <td>-1</td>\n",
       "      <td>-1</td>\n",
       "      <td>-2</td>\n",
       "      <td>...</td>\n",
       "      <td>0</td>\n",
       "      <td>0</td>\n",
       "      <td>0</td>\n",
       "      <td>0</td>\n",
       "      <td>689</td>\n",
       "      <td>0</td>\n",
       "      <td>0</td>\n",
       "      <td>0</td>\n",
       "      <td>0</td>\n",
       "      <td>1</td>\n",
       "    </tr>\n",
       "    <tr>\n",
       "      <th>2</th>\n",
       "      <td>120000</td>\n",
       "      <td>2</td>\n",
       "      <td>2</td>\n",
       "      <td>2</td>\n",
       "      <td>26</td>\n",
       "      <td>-1</td>\n",
       "      <td>2</td>\n",
       "      <td>0</td>\n",
       "      <td>0</td>\n",
       "      <td>0</td>\n",
       "      <td>...</td>\n",
       "      <td>3272</td>\n",
       "      <td>3455</td>\n",
       "      <td>3261</td>\n",
       "      <td>0</td>\n",
       "      <td>1000</td>\n",
       "      <td>1000</td>\n",
       "      <td>1000</td>\n",
       "      <td>0</td>\n",
       "      <td>2000</td>\n",
       "      <td>1</td>\n",
       "    </tr>\n",
       "    <tr>\n",
       "      <th>3</th>\n",
       "      <td>90000</td>\n",
       "      <td>2</td>\n",
       "      <td>2</td>\n",
       "      <td>2</td>\n",
       "      <td>34</td>\n",
       "      <td>0</td>\n",
       "      <td>0</td>\n",
       "      <td>0</td>\n",
       "      <td>0</td>\n",
       "      <td>0</td>\n",
       "      <td>...</td>\n",
       "      <td>14331</td>\n",
       "      <td>14948</td>\n",
       "      <td>15549</td>\n",
       "      <td>1518</td>\n",
       "      <td>1500</td>\n",
       "      <td>1000</td>\n",
       "      <td>1000</td>\n",
       "      <td>1000</td>\n",
       "      <td>5000</td>\n",
       "      <td>0</td>\n",
       "    </tr>\n",
       "    <tr>\n",
       "      <th>4</th>\n",
       "      <td>50000</td>\n",
       "      <td>2</td>\n",
       "      <td>2</td>\n",
       "      <td>1</td>\n",
       "      <td>37</td>\n",
       "      <td>0</td>\n",
       "      <td>0</td>\n",
       "      <td>0</td>\n",
       "      <td>0</td>\n",
       "      <td>0</td>\n",
       "      <td>...</td>\n",
       "      <td>28314</td>\n",
       "      <td>28959</td>\n",
       "      <td>29547</td>\n",
       "      <td>2000</td>\n",
       "      <td>2019</td>\n",
       "      <td>1200</td>\n",
       "      <td>1100</td>\n",
       "      <td>1069</td>\n",
       "      <td>1000</td>\n",
       "      <td>0</td>\n",
       "    </tr>\n",
       "    <tr>\n",
       "      <th>5</th>\n",
       "      <td>50000</td>\n",
       "      <td>1</td>\n",
       "      <td>2</td>\n",
       "      <td>1</td>\n",
       "      <td>57</td>\n",
       "      <td>-1</td>\n",
       "      <td>0</td>\n",
       "      <td>-1</td>\n",
       "      <td>0</td>\n",
       "      <td>0</td>\n",
       "      <td>...</td>\n",
       "      <td>20940</td>\n",
       "      <td>19146</td>\n",
       "      <td>19131</td>\n",
       "      <td>2000</td>\n",
       "      <td>36681</td>\n",
       "      <td>10000</td>\n",
       "      <td>9000</td>\n",
       "      <td>689</td>\n",
       "      <td>679</td>\n",
       "      <td>0</td>\n",
       "    </tr>\n",
       "    <tr>\n",
       "      <th>6</th>\n",
       "      <td>50000</td>\n",
       "      <td>1</td>\n",
       "      <td>1</td>\n",
       "      <td>2</td>\n",
       "      <td>37</td>\n",
       "      <td>0</td>\n",
       "      <td>0</td>\n",
       "      <td>0</td>\n",
       "      <td>0</td>\n",
       "      <td>0</td>\n",
       "      <td>...</td>\n",
       "      <td>19394</td>\n",
       "      <td>19619</td>\n",
       "      <td>20024</td>\n",
       "      <td>2500</td>\n",
       "      <td>1815</td>\n",
       "      <td>657</td>\n",
       "      <td>1000</td>\n",
       "      <td>1000</td>\n",
       "      <td>800</td>\n",
       "      <td>0</td>\n",
       "    </tr>\n",
       "    <tr>\n",
       "      <th>7</th>\n",
       "      <td>500000</td>\n",
       "      <td>1</td>\n",
       "      <td>1</td>\n",
       "      <td>2</td>\n",
       "      <td>29</td>\n",
       "      <td>0</td>\n",
       "      <td>0</td>\n",
       "      <td>0</td>\n",
       "      <td>0</td>\n",
       "      <td>0</td>\n",
       "      <td>...</td>\n",
       "      <td>542653</td>\n",
       "      <td>483003</td>\n",
       "      <td>473944</td>\n",
       "      <td>55000</td>\n",
       "      <td>40000</td>\n",
       "      <td>38000</td>\n",
       "      <td>20239</td>\n",
       "      <td>13750</td>\n",
       "      <td>13770</td>\n",
       "      <td>0</td>\n",
       "    </tr>\n",
       "    <tr>\n",
       "      <th>8</th>\n",
       "      <td>100000</td>\n",
       "      <td>2</td>\n",
       "      <td>2</td>\n",
       "      <td>2</td>\n",
       "      <td>23</td>\n",
       "      <td>0</td>\n",
       "      <td>-1</td>\n",
       "      <td>-1</td>\n",
       "      <td>0</td>\n",
       "      <td>0</td>\n",
       "      <td>...</td>\n",
       "      <td>221</td>\n",
       "      <td>-159</td>\n",
       "      <td>567</td>\n",
       "      <td>380</td>\n",
       "      <td>601</td>\n",
       "      <td>0</td>\n",
       "      <td>581</td>\n",
       "      <td>1687</td>\n",
       "      <td>1542</td>\n",
       "      <td>0</td>\n",
       "    </tr>\n",
       "    <tr>\n",
       "      <th>9</th>\n",
       "      <td>140000</td>\n",
       "      <td>2</td>\n",
       "      <td>3</td>\n",
       "      <td>1</td>\n",
       "      <td>28</td>\n",
       "      <td>0</td>\n",
       "      <td>0</td>\n",
       "      <td>2</td>\n",
       "      <td>0</td>\n",
       "      <td>0</td>\n",
       "      <td>...</td>\n",
       "      <td>12211</td>\n",
       "      <td>11793</td>\n",
       "      <td>3719</td>\n",
       "      <td>3329</td>\n",
       "      <td>0</td>\n",
       "      <td>432</td>\n",
       "      <td>1000</td>\n",
       "      <td>1000</td>\n",
       "      <td>1000</td>\n",
       "      <td>0</td>\n",
       "    </tr>\n",
       "    <tr>\n",
       "      <th>10</th>\n",
       "      <td>20000</td>\n",
       "      <td>1</td>\n",
       "      <td>3</td>\n",
       "      <td>2</td>\n",
       "      <td>35</td>\n",
       "      <td>-2</td>\n",
       "      <td>-2</td>\n",
       "      <td>-2</td>\n",
       "      <td>-2</td>\n",
       "      <td>-1</td>\n",
       "      <td>...</td>\n",
       "      <td>0</td>\n",
       "      <td>13007</td>\n",
       "      <td>13912</td>\n",
       "      <td>0</td>\n",
       "      <td>0</td>\n",
       "      <td>0</td>\n",
       "      <td>13007</td>\n",
       "      <td>1122</td>\n",
       "      <td>0</td>\n",
       "      <td>0</td>\n",
       "    </tr>\n",
       "  </tbody>\n",
       "</table>\n",
       "<p>10 rows × 24 columns</p>\n",
       "</div>"
      ],
      "text/plain": [
       "        X1 X2 X3 X4  X5  X6  X7  X8  X9 X10  ...     X15     X16     X17  \\\n",
       "1    20000  2  2  1  24   2   2  -1  -1  -2  ...       0       0       0   \n",
       "2   120000  2  2  2  26  -1   2   0   0   0  ...    3272    3455    3261   \n",
       "3    90000  2  2  2  34   0   0   0   0   0  ...   14331   14948   15549   \n",
       "4    50000  2  2  1  37   0   0   0   0   0  ...   28314   28959   29547   \n",
       "5    50000  1  2  1  57  -1   0  -1   0   0  ...   20940   19146   19131   \n",
       "6    50000  1  1  2  37   0   0   0   0   0  ...   19394   19619   20024   \n",
       "7   500000  1  1  2  29   0   0   0   0   0  ...  542653  483003  473944   \n",
       "8   100000  2  2  2  23   0  -1  -1   0   0  ...     221    -159     567   \n",
       "9   140000  2  3  1  28   0   0   2   0   0  ...   12211   11793    3719   \n",
       "10   20000  1  3  2  35  -2  -2  -2  -2  -1  ...       0   13007   13912   \n",
       "\n",
       "      X18    X19    X20    X21    X22    X23  Y  \n",
       "1       0    689      0      0      0      0  1  \n",
       "2       0   1000   1000   1000      0   2000  1  \n",
       "3    1518   1500   1000   1000   1000   5000  0  \n",
       "4    2000   2019   1200   1100   1069   1000  0  \n",
       "5    2000  36681  10000   9000    689    679  0  \n",
       "6    2500   1815    657   1000   1000    800  0  \n",
       "7   55000  40000  38000  20239  13750  13770  0  \n",
       "8     380    601      0    581   1687   1542  0  \n",
       "9    3329      0    432   1000   1000   1000  0  \n",
       "10      0      0      0  13007   1122      0  0  \n",
       "\n",
       "[10 rows x 24 columns]"
      ]
     },
     "execution_count": 5,
     "metadata": {},
     "output_type": "execute_result"
    }
   ],
   "source": [
    "dfCreditCard = dfCreditCard.iloc[1:,1:]\n",
    "dfCreditCard.head(10)"
   ]
  },
  {
   "cell_type": "markdown",
   "id": "4c2e959f",
   "metadata": {},
   "source": [
    "- X1: Amount of the given credit (NT dollar): it includes both the individual consumer credit and his/her family (supplementary) credit.\n",
    "-  X2: Gender (1 = male; 2 = female).\n",
    "-  X3: Education (1 = graduate school; 2 = university; 3 = high school; 4 = others).\n",
    "-  X4: Marital status (1 = married; 2 = single; 3 = others).\n",
    "-  X5: Age (year).\n",
    "-  X6 - X11: History of past payment. We tracked the past monthly payment records (from April to September, 2005) as follows: X6 = the repayment status in September, 2005; X7 = the repayment status in August, 2005; . . .;X11 = the repayment status in April, 2005. The measurement scale for the repayment status is: -1 = pay duly; 1 = payment delay for one month; 2 = payment delay for two months; . . .; 8 = payment delay for eight months; 9 = payment delay for nine months and above.\n",
    "-  X12-X17: Amount of bill statement (NT dollar). X12 = amount of bill statement in September, 2005; X13 = amount of bill statement in August, 2005; . . .; X17 = amount of bill statement in April, 2005.\n",
    "-  X18-X23: Amount of previous payment (NT dollar). X18 = amount paid in September, 2005; X19 = amount paid in August, 2005; . . .;X23 = amount paid in April, 2005."
   ]
  },
  {
   "cell_type": "markdown",
   "id": "cc8e1b17",
   "metadata": {},
   "source": [
    "Obtaining information about data count, null values, data types, etc."
   ]
  },
  {
   "cell_type": "code",
   "execution_count": 6,
   "id": "4421fd1a",
   "metadata": {},
   "outputs": [
    {
     "name": "stdout",
     "output_type": "stream",
     "text": [
      "<class 'pandas.core.frame.DataFrame'>\n",
      "RangeIndex: 30000 entries, 1 to 30000\n",
      "Data columns (total 24 columns):\n",
      " #   Column  Non-Null Count  Dtype \n",
      "---  ------  --------------  ----- \n",
      " 0   X1      30000 non-null  object\n",
      " 1   X2      30000 non-null  object\n",
      " 2   X3      30000 non-null  object\n",
      " 3   X4      30000 non-null  object\n",
      " 4   X5      30000 non-null  object\n",
      " 5   X6      30000 non-null  object\n",
      " 6   X7      30000 non-null  object\n",
      " 7   X8      30000 non-null  object\n",
      " 8   X9      30000 non-null  object\n",
      " 9   X10     30000 non-null  object\n",
      " 10  X11     30000 non-null  object\n",
      " 11  X12     30000 non-null  object\n",
      " 12  X13     30000 non-null  object\n",
      " 13  X14     30000 non-null  object\n",
      " 14  X15     30000 non-null  object\n",
      " 15  X16     30000 non-null  object\n",
      " 16  X17     30000 non-null  object\n",
      " 17  X18     30000 non-null  object\n",
      " 18  X19     30000 non-null  object\n",
      " 19  X20     30000 non-null  object\n",
      " 20  X21     30000 non-null  object\n",
      " 21  X22     30000 non-null  object\n",
      " 22  X23     30000 non-null  object\n",
      " 23  Y       30000 non-null  object\n",
      "dtypes: object(24)\n",
      "memory usage: 5.5+ MB\n"
     ]
    }
   ],
   "source": [
    "dfCreditCard.info(verbose=True)"
   ]
  },
  {
   "cell_type": "markdown",
   "id": "bdf649d4",
   "metadata": {},
   "source": [
    "Printing general drescriptive statistics."
   ]
  },
  {
   "cell_type": "code",
   "execution_count": 7,
   "id": "0799fcbc",
   "metadata": {
    "scrolled": true
   },
   "outputs": [
    {
     "data": {
      "text/html": [
       "<div>\n",
       "<style scoped>\n",
       "    .dataframe tbody tr th:only-of-type {\n",
       "        vertical-align: middle;\n",
       "    }\n",
       "\n",
       "    .dataframe tbody tr th {\n",
       "        vertical-align: top;\n",
       "    }\n",
       "\n",
       "    .dataframe thead th {\n",
       "        text-align: right;\n",
       "    }\n",
       "</style>\n",
       "<table border=\"1\" class=\"dataframe\">\n",
       "  <thead>\n",
       "    <tr style=\"text-align: right;\">\n",
       "      <th></th>\n",
       "      <th>X1</th>\n",
       "      <th>X2</th>\n",
       "      <th>X3</th>\n",
       "      <th>X4</th>\n",
       "      <th>X5</th>\n",
       "      <th>X6</th>\n",
       "      <th>X7</th>\n",
       "      <th>X8</th>\n",
       "      <th>X9</th>\n",
       "      <th>X10</th>\n",
       "      <th>...</th>\n",
       "      <th>X15</th>\n",
       "      <th>X16</th>\n",
       "      <th>X17</th>\n",
       "      <th>X18</th>\n",
       "      <th>X19</th>\n",
       "      <th>X20</th>\n",
       "      <th>X21</th>\n",
       "      <th>X22</th>\n",
       "      <th>X23</th>\n",
       "      <th>Y</th>\n",
       "    </tr>\n",
       "  </thead>\n",
       "  <tbody>\n",
       "    <tr>\n",
       "      <th>count</th>\n",
       "      <td>30000</td>\n",
       "      <td>30000</td>\n",
       "      <td>30000</td>\n",
       "      <td>30000</td>\n",
       "      <td>30000</td>\n",
       "      <td>30000</td>\n",
       "      <td>30000</td>\n",
       "      <td>30000</td>\n",
       "      <td>30000</td>\n",
       "      <td>30000</td>\n",
       "      <td>...</td>\n",
       "      <td>30000</td>\n",
       "      <td>30000</td>\n",
       "      <td>30000</td>\n",
       "      <td>30000</td>\n",
       "      <td>30000</td>\n",
       "      <td>30000</td>\n",
       "      <td>30000</td>\n",
       "      <td>30000</td>\n",
       "      <td>30000</td>\n",
       "      <td>30000</td>\n",
       "    </tr>\n",
       "    <tr>\n",
       "      <th>unique</th>\n",
       "      <td>81</td>\n",
       "      <td>2</td>\n",
       "      <td>7</td>\n",
       "      <td>4</td>\n",
       "      <td>56</td>\n",
       "      <td>11</td>\n",
       "      <td>11</td>\n",
       "      <td>11</td>\n",
       "      <td>11</td>\n",
       "      <td>10</td>\n",
       "      <td>...</td>\n",
       "      <td>21548</td>\n",
       "      <td>21010</td>\n",
       "      <td>20604</td>\n",
       "      <td>7943</td>\n",
       "      <td>7899</td>\n",
       "      <td>7518</td>\n",
       "      <td>6937</td>\n",
       "      <td>6897</td>\n",
       "      <td>6939</td>\n",
       "      <td>2</td>\n",
       "    </tr>\n",
       "    <tr>\n",
       "      <th>top</th>\n",
       "      <td>50000</td>\n",
       "      <td>2</td>\n",
       "      <td>2</td>\n",
       "      <td>2</td>\n",
       "      <td>29</td>\n",
       "      <td>0</td>\n",
       "      <td>0</td>\n",
       "      <td>0</td>\n",
       "      <td>0</td>\n",
       "      <td>0</td>\n",
       "      <td>...</td>\n",
       "      <td>0</td>\n",
       "      <td>0</td>\n",
       "      <td>0</td>\n",
       "      <td>0</td>\n",
       "      <td>0</td>\n",
       "      <td>0</td>\n",
       "      <td>0</td>\n",
       "      <td>0</td>\n",
       "      <td>0</td>\n",
       "      <td>0</td>\n",
       "    </tr>\n",
       "    <tr>\n",
       "      <th>freq</th>\n",
       "      <td>3365</td>\n",
       "      <td>18112</td>\n",
       "      <td>14030</td>\n",
       "      <td>15964</td>\n",
       "      <td>1605</td>\n",
       "      <td>14737</td>\n",
       "      <td>15730</td>\n",
       "      <td>15764</td>\n",
       "      <td>16455</td>\n",
       "      <td>16947</td>\n",
       "      <td>...</td>\n",
       "      <td>3195</td>\n",
       "      <td>3506</td>\n",
       "      <td>4020</td>\n",
       "      <td>5249</td>\n",
       "      <td>5396</td>\n",
       "      <td>5968</td>\n",
       "      <td>6408</td>\n",
       "      <td>6703</td>\n",
       "      <td>7173</td>\n",
       "      <td>23364</td>\n",
       "    </tr>\n",
       "  </tbody>\n",
       "</table>\n",
       "<p>4 rows × 24 columns</p>\n",
       "</div>"
      ],
      "text/plain": [
       "           X1     X2     X3     X4     X5     X6     X7     X8     X9    X10  \\\n",
       "count   30000  30000  30000  30000  30000  30000  30000  30000  30000  30000   \n",
       "unique     81      2      7      4     56     11     11     11     11     10   \n",
       "top     50000      2      2      2     29      0      0      0      0      0   \n",
       "freq     3365  18112  14030  15964   1605  14737  15730  15764  16455  16947   \n",
       "\n",
       "        ...    X15    X16    X17    X18    X19    X20    X21    X22    X23  \\\n",
       "count   ...  30000  30000  30000  30000  30000  30000  30000  30000  30000   \n",
       "unique  ...  21548  21010  20604   7943   7899   7518   6937   6897   6939   \n",
       "top     ...      0      0      0      0      0      0      0      0      0   \n",
       "freq    ...   3195   3506   4020   5249   5396   5968   6408   6703   7173   \n",
       "\n",
       "            Y  \n",
       "count   30000  \n",
       "unique      2  \n",
       "top         0  \n",
       "freq    23364  \n",
       "\n",
       "[4 rows x 24 columns]"
      ]
     },
     "execution_count": 7,
     "metadata": {},
     "output_type": "execute_result"
    }
   ],
   "source": [
    "dfCreditCard.describe()"
   ]
  },
  {
   "cell_type": "markdown",
   "id": "de1c4cde",
   "metadata": {},
   "source": [
    "Searching duplicated values"
   ]
  },
  {
   "cell_type": "code",
   "execution_count": 8,
   "id": "c164b7f6",
   "metadata": {},
   "outputs": [
    {
     "data": {
      "text/plain": [
       "35"
      ]
     },
     "execution_count": 8,
     "metadata": {},
     "output_type": "execute_result"
    }
   ],
   "source": [
    "dfCreditCard.duplicated().sum() #explicar que no tienen que ser iguales"
   ]
  },
  {
   "cell_type": "code",
   "execution_count": 9,
   "id": "933bdbe8",
   "metadata": {},
   "outputs": [],
   "source": [
    "dfCreditCard = dfCreditCard.drop_duplicates()"
   ]
  },
  {
   "cell_type": "markdown",
   "id": "fc4b9367",
   "metadata": {},
   "source": [
    "Proportion of classes:"
   ]
  },
  {
   "cell_type": "markdown",
   "id": "92414333",
   "metadata": {},
   "source": [
    "Default payment: No (y = 0)"
   ]
  },
  {
   "cell_type": "code",
   "execution_count": 10,
   "id": "d9a3a8c1",
   "metadata": {},
   "outputs": [
    {
     "data": {
      "text/plain": [
       "23335"
      ]
     },
     "execution_count": 10,
     "metadata": {},
     "output_type": "execute_result"
    }
   ],
   "source": [
    "len(dfCreditCard.loc[dfCreditCard[\"Y\"] == 0,[\"Y\"]])"
   ]
  },
  {
   "cell_type": "markdown",
   "id": "9be31885",
   "metadata": {},
   "source": [
    "Default payment: Yes (y = 1)"
   ]
  },
  {
   "cell_type": "code",
   "execution_count": 11,
   "id": "6be9593d",
   "metadata": {},
   "outputs": [
    {
     "data": {
      "text/plain": [
       "6630"
      ]
     },
     "execution_count": 11,
     "metadata": {},
     "output_type": "execute_result"
    }
   ],
   "source": [
    "len(dfCreditCard.loc[dfCreditCard[\"Y\"] == 1,[\"Y\"]])"
   ]
  },
  {
   "cell_type": "markdown",
   "id": "ec08dd3d",
   "metadata": {},
   "source": [
    "Fixing errors."
   ]
  },
  {
   "cell_type": "code",
   "execution_count": 12,
   "id": "ceda2650",
   "metadata": {
    "scrolled": true
   },
   "outputs": [
    {
     "data": {
      "text/plain": [
       "array([2, 1, 3, 5, 4, 6, 0], dtype=object)"
      ]
     },
     "execution_count": 12,
     "metadata": {},
     "output_type": "execute_result"
    }
   ],
   "source": [
    "dfCreditCard[\"X3\"].unique()"
   ]
  },
  {
   "cell_type": "code",
   "execution_count": 13,
   "id": "9d7882dd",
   "metadata": {
    "scrolled": true
   },
   "outputs": [
    {
     "data": {
      "image/png": "[encoded data removed]",
      "text/plain": [
       "<Figure size 720x720 with 1 Axes>"
      ]
     },
     "metadata": {
      "needs_background": "light"
     },
     "output_type": "display_data"
    }
   ],
   "source": [
    "num_bins = len(dfCreditCard['X3'].unique())\n",
    "dfCreditCard['X3'].hist(bins=num_bins,figsize = (10,10))\n",
    "plt.show()"
   ]
  },
  {
   "cell_type": "code",
   "execution_count": 14,
   "id": "4229b5f0",
   "metadata": {},
   "outputs": [],
   "source": [
    "dfCreditCard[\"X3\"] = dfCreditCard[\"X3\"].replace([0, 5, 6], 4)"
   ]
  },
  {
   "cell_type": "code",
   "execution_count": 15,
   "id": "7c0af999",
   "metadata": {},
   "outputs": [
    {
     "data": {
      "text/plain": [
       "array([2, 1, 3, 4], dtype=int64)"
      ]
     },
     "execution_count": 15,
     "metadata": {},
     "output_type": "execute_result"
    }
   ],
   "source": [
    "dfCreditCard[\"X3\"].unique()"
   ]
  },
  {
   "cell_type": "code",
   "execution_count": 16,
   "id": "cd288f61",
   "metadata": {},
   "outputs": [
    {
     "data": {
      "text/plain": [
       "array([1, 2, 3, 0], dtype=object)"
      ]
     },
     "execution_count": 16,
     "metadata": {},
     "output_type": "execute_result"
    }
   ],
   "source": [
    "dfCreditCard[\"X4\"].unique()"
   ]
  },
  {
   "cell_type": "code",
   "execution_count": 17,
   "id": "82a74ed6",
   "metadata": {},
   "outputs": [],
   "source": [
    "dfCreditCard[\"X4\"] = dfCreditCard[\"X4\"].replace(0, 3)"
   ]
  },
  {
   "cell_type": "code",
   "execution_count": 18,
   "id": "338b1a3b",
   "metadata": {},
   "outputs": [
    {
     "data": {
      "text/plain": [
       "array([2, 0, -1, -2, 3, 5, 7, 4, 1, 6, 8], dtype=object)"
      ]
     },
     "execution_count": 18,
     "metadata": {},
     "output_type": "execute_result"
    }
   ],
   "source": [
    "dfCreditCard[\"X7\"].unique()"
   ]
  },
  {
   "cell_type": "markdown",
   "id": "291aff5d",
   "metadata": {},
   "source": [
    "Setting as int64 type categorical variables and float the numerical ones."
   ]
  },
  {
   "cell_type": "code",
   "execution_count": 19,
   "id": "139f2afc",
   "metadata": {
    "scrolled": true
   },
   "outputs": [
    {
     "name": "stdout",
     "output_type": "stream",
     "text": [
      "<class 'pandas.core.frame.DataFrame'>\n",
      "Int64Index: 29965 entries, 1 to 30000\n",
      "Data columns (total 24 columns):\n",
      " #   Column  Non-Null Count  Dtype \n",
      "---  ------  --------------  ----- \n",
      " 0   X1      29965 non-null  object\n",
      " 1   X2      29965 non-null  object\n",
      " 2   X3      29965 non-null  int64 \n",
      " 3   X4      29965 non-null  int64 \n",
      " 4   X5      29965 non-null  object\n",
      " 5   X6      29965 non-null  object\n",
      " 6   X7      29965 non-null  object\n",
      " 7   X8      29965 non-null  object\n",
      " 8   X9      29965 non-null  object\n",
      " 9   X10     29965 non-null  object\n",
      " 10  X11     29965 non-null  object\n",
      " 11  X12     29965 non-null  object\n",
      " 12  X13     29965 non-null  object\n",
      " 13  X14     29965 non-null  object\n",
      " 14  X15     29965 non-null  object\n",
      " 15  X16     29965 non-null  object\n",
      " 16  X17     29965 non-null  object\n",
      " 17  X18     29965 non-null  object\n",
      " 18  X19     29965 non-null  object\n",
      " 19  X20     29965 non-null  object\n",
      " 20  X21     29965 non-null  object\n",
      " 21  X22     29965 non-null  object\n",
      " 22  X23     29965 non-null  object\n",
      " 23  Y       29965 non-null  object\n",
      "dtypes: int64(2), object(22)\n",
      "memory usage: 5.7+ MB\n"
     ]
    }
   ],
   "source": [
    "dfCreditCard.info(verbose=True)"
   ]
  },
  {
   "cell_type": "code",
   "execution_count": 20,
   "id": "4052ec7a",
   "metadata": {},
   "outputs": [],
   "source": [
    "dfCreditCard[\"X1\"] = dfCreditCard[\"X1\"].astype(float)"
   ]
  },
  {
   "cell_type": "code",
   "execution_count": 21,
   "id": "f89d52b7",
   "metadata": {},
   "outputs": [],
   "source": [
    "dfCreditCard[\"X2\"] = dfCreditCard[\"X2\"].astype(int)"
   ]
  },
  {
   "cell_type": "code",
   "execution_count": 22,
   "id": "1a0322f1",
   "metadata": {},
   "outputs": [],
   "source": [
    "dfCreditCard[\"X5\"] = dfCreditCard[\"X5\"].astype(float)"
   ]
  },
  {
   "cell_type": "code",
   "execution_count": 23,
   "id": "46dd4798",
   "metadata": {},
   "outputs": [],
   "source": [
    "for i in range(6, 12):\n",
    "    dfCreditCard[f\"X{i}\"] = dfCreditCard[f\"X{i}\"].astype(int)"
   ]
  },
  {
   "cell_type": "code",
   "execution_count": 24,
   "id": "d5bbfbd3",
   "metadata": {},
   "outputs": [],
   "source": [
    "for i in range(12, 24):\n",
    "    dfCreditCard[f\"X{i}\"] = dfCreditCard[f\"X{i}\"].astype(float)"
   ]
  },
  {
   "cell_type": "code",
   "execution_count": 25,
   "id": "bd059c58",
   "metadata": {},
   "outputs": [],
   "source": [
    "dfCreditCard[\"Y\"] = dfCreditCard[\"Y\"].astype(int)"
   ]
  },
  {
   "cell_type": "code",
   "execution_count": 26,
   "id": "8bd99915",
   "metadata": {
    "scrolled": true
   },
   "outputs": [
    {
     "name": "stdout",
     "output_type": "stream",
     "text": [
      "<class 'pandas.core.frame.DataFrame'>\n",
      "Int64Index: 29965 entries, 1 to 30000\n",
      "Data columns (total 24 columns):\n",
      " #   Column  Non-Null Count  Dtype  \n",
      "---  ------  --------------  -----  \n",
      " 0   X1      29965 non-null  float64\n",
      " 1   X2      29965 non-null  int32  \n",
      " 2   X3      29965 non-null  int64  \n",
      " 3   X4      29965 non-null  int64  \n",
      " 4   X5      29965 non-null  float64\n",
      " 5   X6      29965 non-null  int32  \n",
      " 6   X7      29965 non-null  int32  \n",
      " 7   X8      29965 non-null  int32  \n",
      " 8   X9      29965 non-null  int32  \n",
      " 9   X10     29965 non-null  int32  \n",
      " 10  X11     29965 non-null  int32  \n",
      " 11  X12     29965 non-null  float64\n",
      " 12  X13     29965 non-null  float64\n",
      " 13  X14     29965 non-null  float64\n",
      " 14  X15     29965 non-null  float64\n",
      " 15  X16     29965 non-null  float64\n",
      " 16  X17     29965 non-null  float64\n",
      " 17  X18     29965 non-null  float64\n",
      " 18  X19     29965 non-null  float64\n",
      " 19  X20     29965 non-null  float64\n",
      " 20  X21     29965 non-null  float64\n",
      " 21  X22     29965 non-null  float64\n",
      " 22  X23     29965 non-null  float64\n",
      " 23  Y       29965 non-null  int32  \n",
      "dtypes: float64(14), int32(8), int64(2)\n",
      "memory usage: 4.8 MB\n"
     ]
    }
   ],
   "source": [
    "dfCreditCard.info(verbose=True)"
   ]
  },
  {
   "cell_type": "code",
   "execution_count": 27,
   "id": "53b2ba07",
   "metadata": {
    "scrolled": false
   },
   "outputs": [
    {
     "data": {
      "image/png": "[encoded data removed]",
      "text/plain": [
       "<Figure size 1080x1080 with 25 Axes>"
      ]
     },
     "metadata": {
      "needs_background": "light"
     },
     "output_type": "display_data"
    }
   ],
   "source": [
    "histRaw = dfCreditCard.hist(figsize = (15,15))"
   ]
  },
  {
   "cell_type": "markdown",
   "id": "a70e7a9c",
   "metadata": {},
   "source": [
    "Scaling numerical data (avoiding categorical ones)"
   ]
  },
  {
   "cell_type": "code",
   "execution_count": 28,
   "id": "37ccc33e",
   "metadata": {},
   "outputs": [],
   "source": [
    "from sklearn.preprocessing import MinMaxScaler\n",
    "\n",
    "# getting a list of numerical column names\n",
    "num_cols = list(dfCreditCard.select_dtypes(include=['float64']).columns)\n",
    "\n",
    "# creating a scaler and fit it to the numerical data\n",
    "scaler = MinMaxScaler()\n",
    "dfCreditCard[num_cols] = scaler.fit_transform(dfCreditCard[num_cols])"
   ]
  },
  {
   "cell_type": "markdown",
   "id": "dcef8c0e",
   "metadata": {},
   "source": [
    "Saving in a CSV."
   ]
  },
  {
   "cell_type": "code",
   "execution_count": 29,
   "id": "9e645fe5",
   "metadata": {},
   "outputs": [],
   "source": [
    "dfCreditCard.to_csv(\".\\datasets\\creditCard.csv\",index=False)"
   ]
  }
 ],
 "metadata": {
  "kernelspec": {
   "display_name": "Python 3 (ipykernel)",
   "language": "python",
   "name": "python3"
  },
  "language_info": {
   "codemirror_mode": {
    "name": "ipython",
    "version": 3
   },
   "file_extension": ".py",
   "mimetype": "text/x-python",
   "name": "python",
   "nbconvert_exporter": "python",
   "pygments_lexer": "ipython3",
   "version": "3.10.4"
  }
 },
 "nbformat": 4,
 "nbformat_minor": 5
}
